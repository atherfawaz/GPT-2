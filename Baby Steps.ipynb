{
 "cells": [
  {
   "cell_type": "code",
   "execution_count": null,
   "metadata": {},
   "outputs": [],
   "source": [
    "!wget https://github.com/nshepperd/gpt-2/archive/finetuning.zip"
   ]
  },
  {
   "cell_type": "code",
   "execution_count": null,
   "metadata": {},
   "outputs": [],
   "source": [
    "!unzip finetuning.zip\n",
    "!mv gpt-2-finetuning gpt-2-second"
   ]
  },
  {
   "cell_type": "code",
   "execution_count": null,
   "metadata": {},
   "outputs": [],
   "source": [
    "%cd gpt-2-second\n",
    "!pip install --user -r requirements.txt"
   ]
  },
  {
   "cell_type": "code",
   "execution_count": 7,
   "metadata": {},
   "outputs": [
    {
     "name": "stdout",
     "output_type": "stream",
     "text": [
      "Fetching checkpoint: 1.00kit [00:00, 849kit/s]                                                      \n",
      "Fetching encoder.json: 1.04Mit [00:00, 37.0Mit/s]                                                   \n",
      "Fetching hparams.json: 1.00kit [00:00, 954kit/s]                                                    \n",
      "Fetching model.ckpt.data-00000-of-00001: 1.42Git [00:26, 52.7Mit/s]                                 \n",
      "Fetching model.ckpt.index: 11.0kit [00:00, 7.45Mit/s]                                               \n",
      "Fetching model.ckpt.meta: 927kit [00:00, 35.9Mit/s]                                                 \n",
      "Fetching vocab.bpe: 457kit [00:00, 37.0Mit/s]                                                       \n"
     ]
    }
   ],
   "source": [
    "!python download_model.py 355M"
   ]
  },
  {
   "cell_type": "code",
   "execution_count": 8,
   "metadata": {},
   "outputs": [
    {
     "name": "stdout",
     "output_type": "stream",
     "text": [
      "Reading files\n",
      "100%|█████████████████████████████████████████████| 1/1 [00:06<00:00,  6.85s/it]\n",
      "Writing src/dset.npz\n"
     ]
    }
   ],
   "source": [
    "!PYTHONPATH=src ./encode.py --model_name='355M' src/articles src/dset.npz"
   ]
  },
  {
   "cell_type": "code",
   "execution_count": 12,
   "metadata": {},
   "outputs": [
    {
     "name": "stdout",
     "output_type": "stream",
     "text": [
      "WARNING:tensorflow:From /mnt/batch/tasks/shared/LS_root/mounts/clusters/gptcomputeinstance/code/users/atherfawaz/gpt-2-second/src/model.py:147: The name tf.AUTO_REUSE is deprecated. Please use tf.compat.v1.AUTO_REUSE instead.\n",
      "\n",
      "WARNING:tensorflow:From /mnt/batch/tasks/shared/LS_root/mounts/clusters/gptcomputeinstance/code/users/atherfawaz/gpt-2-second/src/memory_saving_gradients.py:13: The name tf.GraphKeys is deprecated. Please use tf.compat.v1.GraphKeys instead.\n",
      "\n",
      "WARNING:tensorflow:From ./train.py:88: The name tf.ConfigProto is deprecated. Please use tf.compat.v1.ConfigProto instead.\n",
      "\n",
      "WARNING:tensorflow:From ./train.py:91: The name tf.Session is deprecated. Please use tf.compat.v1.Session instead.\n",
      "\n",
      "2020-06-23 15:13:37.646875: I tensorflow/core/platform/cpu_feature_guard.cc:142] Your CPU supports instructions that this TensorFlow binary was not compiled to use: AVX2 FMA\n",
      "2020-06-23 15:13:37.872796: I tensorflow/core/platform/profile_utils/cpu_utils.cc:94] CPU Frequency: 2596990000 Hz\n",
      "2020-06-23 15:13:37.873864: I tensorflow/compiler/xla/service/service.cc:168] XLA service 0x55a1d76bac30 executing computations on platform Host. Devices:\n",
      "2020-06-23 15:13:37.873890: I tensorflow/compiler/xla/service/service.cc:175]   StreamExecutor device (0): <undefined>, <undefined>\n",
      "WARNING:tensorflow:From ./train.py:92: The name tf.placeholder is deprecated. Please use tf.compat.v1.placeholder instead.\n",
      "\n",
      "WARNING:tensorflow:From /mnt/batch/tasks/shared/LS_root/mounts/clusters/gptcomputeinstance/code/users/atherfawaz/gpt-2-second/src/sample.py:65: to_float (from tensorflow.python.ops.math_ops) is deprecated and will be removed in a future version.\n",
      "Instructions for updating:\n",
      "Use `tf.cast` instead.\n",
      "WARNING:tensorflow:From /mnt/batch/tasks/shared/LS_root/mounts/clusters/gptcomputeinstance/code/users/atherfawaz/gpt-2-second/src/sample.py:16: add_dispatch_support.<locals>.wrapper (from tensorflow.python.ops.array_ops) is deprecated and will be removed in a future version.\n",
      "Instructions for updating:\n",
      "Use tf.where in 2.0, which has the same broadcast rule as np.where\n",
      "WARNING:tensorflow:From /mnt/batch/tasks/shared/LS_root/mounts/clusters/gptcomputeinstance/code/users/atherfawaz/gpt-2-second/src/sample.py:70: multinomial (from tensorflow.python.ops.random_ops) is deprecated and will be removed in a future version.\n",
      "Instructions for updating:\n",
      "Use `tf.random.categorical` instead.\n",
      "WARNING:tensorflow:From ./train.py:121: The name tf.train.AdamOptimizer is deprecated. Please use tf.compat.v1.train.AdamOptimizer instead.\n",
      "\n",
      "WARNING:tensorflow:From ./train.py:144: The name tf.summary.scalar is deprecated. Please use tf.compat.v1.summary.scalar instead.\n",
      "\n",
      "WARNING:tensorflow:From ./train.py:147: The name tf.summary.merge is deprecated. Please use tf.compat.v1.summary.merge instead.\n",
      "\n",
      "WARNING:tensorflow:From ./train.py:149: The name tf.summary.FileWriter is deprecated. Please use tf.compat.v1.summary.FileWriter instead.\n",
      "\n",
      "WARNING:tensorflow:From ./train.py:152: The name tf.train.Saver is deprecated. Please use tf.compat.v1.train.Saver instead.\n",
      "\n",
      "2020-06-23 15:14:11.550569: W tensorflow/compiler/jit/mark_for_compilation_pass.cc:1412] (One-time warning): Not using XLA:CPU for cluster because envvar TF_XLA_FLAGS=--tf_xla_cpu_global_jit was not set.  If you want XLA:CPU, either set that envvar, or use experimental_jit_scope to enable XLA:CPU.  To confirm that XLA is active, pass --vmodule=xla_compilation_cache=1 (as a proper command-line flag, not via TF_XLA_FLAGS) or set the envvar XLA_FLAGS=--xla_hlo_profile.\n",
      "Loading checkpoint models/355M/model.ckpt\n",
      "WARNING:tensorflow:From /anaconda/envs/azureml_py36/lib/python3.6/site-packages/tensorflow/python/training/saver.py:1276: checkpoint_exists (from tensorflow.python.training.checkpoint_management) is deprecated and will be removed in a future version.\n",
      "Instructions for updating:\n",
      "Use standard file APIs to check for files with this prefix.\n",
      "Loading dataset...\n",
      "100%|█████████████████████████████████████████████| 1/1 [00:00<00:00,  2.88it/s]\n",
      "dataset has 1169918 tokens\n",
      "Training...\n",
      "[1 | 19.97] loss=2.88 avg=2.88\n",
      "[2 | 29.09] loss=2.91 avg=2.89\n",
      "[3 | 38.21] loss=5.10 avg=3.64\n",
      "[4 | 47.31] loss=3.00 avg=3.48\n",
      "[5 | 56.45] loss=3.22 avg=3.42\n",
      "[6 | 65.50] loss=3.14 avg=3.37\n",
      "[7 | 74.58] loss=3.74 avg=3.43\n",
      "[8 | 83.69] loss=2.67 avg=3.33\n",
      "[9 | 92.93] loss=2.64 avg=3.25\n",
      "[10 | 102.01] loss=3.18 avg=3.24\n",
      "[11 | 111.14] loss=2.87 avg=3.21\n",
      "[12 | 120.27] loss=2.36 avg=3.13\n",
      "[13 | 129.34] loss=3.03 avg=3.12\n",
      "[14 | 138.55] loss=2.84 avg=3.10\n",
      "[15 | 147.62] loss=3.14 avg=3.11\n",
      "[16 | 157.50] loss=3.02 avg=3.10\n",
      "[17 | 166.70] loss=3.24 avg=3.11\n",
      "[18 | 175.88] loss=2.60 avg=3.08\n",
      "[19 | 185.06] loss=3.17 avg=3.08\n",
      "[20 | 194.17] loss=2.86 avg=3.07\n",
      "[21 | 203.24] loss=2.90 avg=3.06\n",
      "[22 | 212.47] loss=2.95 avg=3.06\n",
      "[23 | 221.65] loss=2.91 avg=3.05\n",
      "[24 | 230.72] loss=3.48 avg=3.07\n",
      "[25 | 239.88] loss=2.38 avg=3.04\n",
      "[26 | 249.06] loss=3.01 avg=3.04\n",
      "[27 | 258.19] loss=3.00 avg=3.03\n",
      "[28 | 267.31] loss=3.20 avg=3.04\n",
      "[29 | 276.45] loss=3.68 avg=3.07\n",
      "[30 | 285.58] loss=3.00 avg=3.06\n",
      "[31 | 294.73] loss=3.11 avg=3.07\n",
      "[32 | 303.90] loss=2.77 avg=3.06\n",
      "[33 | 313.00] loss=2.51 avg=3.04\n",
      "[34 | 322.20] loss=2.87 avg=3.03\n",
      "[35 | 331.46] loss=3.03 avg=3.03\n",
      "[36 | 340.62] loss=2.37 avg=3.01\n",
      "[37 | 349.77] loss=2.68 avg=3.00\n",
      "[38 | 358.99] loss=3.23 avg=3.01\n",
      "[39 | 368.09] loss=2.57 avg=2.99\n",
      "[40 | 377.20] loss=3.46 avg=3.01\n",
      "[41 | 386.34] loss=4.63 avg=3.05\n",
      "[42 | 395.44] loss=2.37 avg=3.03\n",
      "[43 | 404.59] loss=2.86 avg=3.03\n",
      "[44 | 413.70] loss=3.51 avg=3.04\n",
      "[45 | 422.89] loss=2.78 avg=3.04\n",
      "[46 | 432.04] loss=2.96 avg=3.03\n",
      "[47 | 441.23] loss=3.41 avg=3.04\n",
      "[48 | 450.35] loss=3.35 avg=3.05\n",
      "[49 | 459.63] loss=3.06 avg=3.05\n",
      "Generating samples...\n",
      "======== SAMPLE 3 ========\n",
      " cause the average person to notice, if he sees one, is to stop and see if he can see one.\n",
      "\n",
      "A friend's dog shows great interest when one is on the loose around the house. A person's dog makes no attempt to be nice. He has a very narrow vision, and a sense of humor.\n",
      "\n",
      "The average person is not a dog and does not know how to treat one. A friend's dog is a very popular dog, and not a particularly strong one by most people's standards. It has a great sense of humor and enjoys people, and has a very good nose. It enjoys playing. It doesn't like people, but it seems to enjoy a cat. It likes very different things than most people. (I think). A person's dog doesn't get to go outside often, but it usually doesn't like children either. A person's dog is a big dog, but is usually very good at not getting itself in trouble. An average dog just wants to sleep in the big house. A dog is not an animal. A person's dog is a little person and will not take orders.\n",
      "\n",
      "A dog's first instinct is to follow your instructions. He will not let you put the leash back. As a result, he does not run or play with anyone. A dog that is good with people only likes people very much. He will usually have a problem with people if you try to talk to him. A dog's next instinct is to not want to be a pet. He will not want to go into your home to do things that are not your business. He does not want to be a dog. A dog may not like children either. A person's dog is a very popular dog, even though he is not as tall as one of his brothers. It has a very good nose, and has a very good sense of humor. It likes people, but it does not seem to be too much of a troublemaker when you are home. A dog's next instinct is to not want to be allowed to go anywhere. He won't come to work if you don't give him your name. A dog is not a dog. A dog may not like people either. A person's dog is a very popular dog, because the people that he loves are like people to the dog—and they can't be friends with anyone who doesn't already have friends. A dog may not like people who can afford to get out of bed at night. A dog is not an animal. A person's dog is a very popular dog because of its popularity. A people's dog is a strong dog, but does not often do well with anyone. He has a good sense of humor, and his dogs have a good sense of humor. A people's dog isn't really a friend. A person's dog is the one that the average person thinks of when he is thinking about people. A people's dog is a dog who may have been born with a genetic defect as a girl, but does not actually have a male sex. He will take care of his family, but he is still a dog who is also a human being. A person's dog is a very popular dog, which, by itself, cannot be said to be especially rare. A person's dog is a big dog, but is not quite as big as a person. He will certainly not be the most popular dog around any given day, but he will be a relatively popular dog. A dog is not an animal. A person's dog is a very popular dog because he is a human. The first thing a dog does when a friend comes home is greet the human. He is not a stranger, and so it makes little sense for him to go around the house and tell everybody that he is a human. A dog's biggest mistake is to try to please a human while he is the most distant. That's when you should use your patience and get to know another human. A person's dog does not like people (not even a human), and does not like people who can afford to get up in the morning. He is like a dog—only stronger and meaner. Another dog is also a human being. A person's dog is a very popular dog—it is the only dog that has been around humans. A dog is very popular in a family. A dog is a dog that does not even like people. A person's dog is a dog that lives very close to the human. A dog is the most popular dogs in a community. A dog is an animal. Dogs in general are weak. They love the company of humans, as one can only imagine. A person's dog is not a dog.\n",
      "\n",
      "A person's dog has a big nose, but really does not like humans too much. The way a dog likes people is to be able to tell when a human is trying to be nice. This is a good dog. A person's dog, for whatever reason, does not seem to appreciate people. It only\n",
      "\n",
      "[50 | 967.32] loss=2.66 avg=3.04\n",
      "[51 | 976.51] loss=3.47 avg=3.05\n",
      "[52 | 985.66] loss=3.30 avg=3.06\n",
      "[53 | 994.83] loss=3.33 avg=3.07\n",
      "[54 | 1004.05] loss=2.92 avg=3.06\n",
      "[55 | 1013.22] loss=3.35 avg=3.07\n",
      "[56 | 1022.37] loss=2.72 avg=3.06\n",
      "[57 | 1031.55] loss=2.54 avg=3.05\n",
      "[58 | 1040.70] loss=3.71 avg=3.06\n",
      "[59 | 1049.88] loss=3.09 avg=3.06\n",
      "[60 | 1059.05] loss=3.07 avg=3.06\n",
      "[61 | 1068.19] loss=3.17 avg=3.07\n",
      "[62 | 1077.30] loss=2.61 avg=3.06\n",
      "[63 | 1086.55] loss=3.39 avg=3.06\n",
      "[64 | 1095.79] loss=3.59 avg=3.08\n",
      "[65 | 1104.98] loss=2.77 avg=3.07\n",
      "[66 | 1114.24] loss=2.58 avg=3.06\n",
      "[67 | 1123.39] loss=3.17 avg=3.06\n",
      "[68 | 1132.54] loss=3.62 avg=3.07\n",
      "[69 | 1141.67] loss=3.02 avg=3.07\n",
      "[70 | 1150.99] loss=2.58 avg=3.06\n",
      "[71 | 1160.17] loss=3.27 avg=3.07\n",
      "[72 | 1169.29] loss=3.17 avg=3.07\n",
      "[73 | 1178.41] loss=2.79 avg=3.06\n",
      "[74 | 1187.55] loss=3.03 avg=3.06\n",
      "[75 | 1196.72] loss=2.64 avg=3.05\n",
      "[76 | 1205.87] loss=2.80 avg=3.05\n",
      "[77 | 1214.99] loss=3.34 avg=3.05\n",
      "[78 | 1224.20] loss=1.97 avg=3.03\n",
      "[79 | 1233.38] loss=2.46 avg=3.02\n",
      "[80 | 1242.59] loss=2.66 avg=3.02\n",
      "[81 | 1251.69] loss=2.66 avg=3.01\n",
      "[82 | 1260.86] loss=2.24 avg=3.00\n",
      "[83 | 1270.05] loss=2.90 avg=3.00\n",
      "[84 | 1279.20] loss=3.27 avg=3.00\n",
      "[85 | 1288.37] loss=2.50 avg=2.99\n",
      "[86 | 1297.52] loss=3.01 avg=2.99\n",
      "[87 | 1306.66] loss=2.54 avg=2.98\n",
      "[88 | 1315.87] loss=2.53 avg=2.98\n",
      "[89 | 1324.98] loss=2.33 avg=2.97\n",
      "[90 | 1334.13] loss=3.14 avg=2.97\n",
      "[91 | 1343.25] loss=2.02 avg=2.95\n",
      "[92 | 1352.42] loss=4.92 avg=2.99\n",
      "[93 | 1361.67] loss=2.69 avg=2.98\n",
      "[94 | 1370.75] loss=2.67 avg=2.98\n",
      "[95 | 1379.91] loss=2.89 avg=2.97\n",
      "[96 | 1389.04] loss=3.16 avg=2.98\n",
      "[97 | 1398.17] loss=3.03 avg=2.98\n",
      "[98 | 1407.29] loss=2.59 avg=2.97\n",
      "[99 | 1416.42] loss=2.58 avg=2.97\n",
      "Generating samples...\n",
      "======== SAMPLE 3 ========\n",
      " offensive-minded parents.\n",
      "\n",
      "The story starts on this blog site called blog.com, where I write about my life, and my relationships with children. My life story is my story. I also like to talk about my relationships with people, because my kids are always in my corner. And my relationships with women, which, they usually stay in my corner, because they're my friends. Or they have been for ages now. I don't really even have a relationship with my husband, as I have a relationship with my friends and with my children. I think that's it. No, I don't even know anyone. So I talk about my relationships, but the ones I have with my own children will always be there with me. It's just the whole package and everything, so I talk on my own.\n",
      "\n",
      "Anyway, yesterday, a friend of mine called the website.com site to tell me that the kids had been playing on a beach. So my daughter and I, and my husband, and two friends (one of whom is a friend of ours, who's married and has children) went to the beach. So, of course, I went, and there were a few kids with their friends, and I, and my husband went out as well, and we did have fun. The kids, I'm sure, knew all of us there, and so did I, and we were all happy and laughing. (We weren't the only ones there, really, there were the mom and dad kids too…we heard one of the kids calling his dad's name and he said that he didn't mind. He seemed to be playing in the sand on his hands and knees, like a big boy was playing with a girl he was a little worried about.) So as soon as we got back to our place, my husband went to another beach and just sat on the beach for a while; I sat up on the balcony and watched the sun go down. Then my daughter called my husband to ask for a spot, which was fine by me; as long as she was happy, I got to watch her. Then a kid told my husband to sit down, and he did, by chance, sit next to him and he got up and said hello, and we all clapped and we all cheered as the kid said hi; then my wife called my husband to say, my husband, get that seat back, so that it's the one I've come to enjoy, to enjoy the fact that I didn't get to see my kids, instead, I got to enjoy watching two kids, and I got to watch the sun come down. Then I got to sit on the balcony with my kids to watch the sun come down. I'm just the picture of happiness right now. In the meantime, I've been enjoying watching my children play the game of basketball, and I'm wondering what the mood was like on that game. It was nice. I mean, it was nice, because there were a few little kids there, and the kids were not all getting so excited that they were going to do a great deed: they were just sitting there, like little boys are there, and everybody was happy, and as soon as a kid called my husband's name, the kid jumped up on me and we all clapped and we all cheered. But then my husband gets up with me. At least one kid got up as well, and he got up with me as well. My husband was sitting with the little kids there with my wife, and we clapped, and we even clapped a little, because the little kids were all happy to have me and I was cheering, so there was a kind of family in that. It was all nice, and I think that, again, was a nice moment, and so I got to sit there, just the picture of happiness that I do right now.\n",
      "\n",
      "So, it was nice to be happy that I did, in fact, get that picture. I do it all the time, sometimes. When somebody calls me, I go on. Sometimes I'll even sit there a bit and read and be amused by the story of the story I'm telling. (This is where I tell my stories, not to be laughed at.) For a lot of them, I tell a funny story, but I don't think about what's really going on, but I do the story, and even if it's not a really funny story. In the meantime, everyone else's stories are all right – the little children's stories are all right, the parents' stories are all right, the grandparents' stories are all right, and everybody's parents stories are all right, as well. And I'm so happy I do this, and all the little stories I tell with my daughters are good and I can watch my children, and I can enjoy myself having been a part of a funny story.\n",
      "\n",
      "There's one more story that I know of: the story that my daughters told about\n",
      "\n",
      "[100 | 1922.46] loss=2.90 avg=2.96\n",
      "[101 | 1931.65] loss=2.20 avg=2.95\n",
      "[102 | 1940.76] loss=3.14 avg=2.96\n",
      "^C\n"
     ]
    }
   ],
   "source": [
    "!PYTHONPATH=src ./train.py --dataset src/dset.npz --sample_every 50 --sample_num 3 --model_name='355M'"
   ]
  },
  {
   "cell_type": "code",
   "execution_count": null,
   "metadata": {},
   "outputs": [],
   "source": []
  }
 ],
 "metadata": {
  "kernelspec": {
   "display_name": "Python 3.6 - AzureML",
   "language": "python",
   "name": "python3-azureml"
  },
  "language_info": {
   "codemirror_mode": {
    "name": "ipython",
    "version": 3
   },
   "file_extension": ".py",
   "mimetype": "text/x-python",
   "name": "python",
   "nbconvert_exporter": "python",
   "pygments_lexer": "ipython3",
   "version": "3.6.9"
  }
 },
 "nbformat": 4,
 "nbformat_minor": 4
}
