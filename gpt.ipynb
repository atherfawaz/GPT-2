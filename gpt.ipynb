{
 "cells": [
  {
   "cell_type": "code",
   "execution_count": null,
   "metadata": {},
   "outputs": [],
   "source": [
    "!wget https://github.com/nshepperd/gpt-2/archive/finetuning.zip"
   ]
  },
  {
   "cell_type": "code",
   "execution_count": null,
   "metadata": {},
   "outputs": [],
   "source": [
    "!unzip finetuning.zip"
   ]
  },
  {
   "cell_type": "code",
   "execution_count": null,
   "metadata": {},
   "outputs": [],
   "source": [
    "!mv gpt-2-finetuning gpt-2"
   ]
  },
  {
   "cell_type": "code",
   "execution_count": null,
   "metadata": {},
   "outputs": [],
   "source": [
    "!cd gpt-2"
   ]
  },
  {
   "cell_type": "code",
   "execution_count": null,
   "metadata": {},
   "outputs": [],
   "source": [
    "!ls"
   ]
  },
  {
   "cell_type": "code",
   "execution_count": null,
   "metadata": {},
   "outputs": [],
   "source": [
    "%cd gpt-2"
   ]
  },
  {
   "cell_type": "code",
   "execution_count": null,
   "metadata": {},
   "outputs": [],
   "source": [
    "!pip install --user -r requirements.txt"
   ]
  },
  {
   "cell_type": "code",
   "execution_count": null,
   "metadata": {},
   "outputs": [],
   "source": [
    "!pip install --upgrade --user tqdm"
   ]
  },
  {
   "cell_type": "code",
   "execution_count": null,
   "metadata": {},
   "outputs": [],
   "source": [
    "!pip install --user toposort"
   ]
  },
  {
   "cell_type": "code",
   "execution_count": null,
   "metadata": {},
   "outputs": [],
   "source": [
    "!python3 download_model.py 1558M"
   ]
  },
  {
   "cell_type": "code",
   "execution_count": null,
   "metadata": {},
   "outputs": [],
   "source": [
    "!pip show tensorflow"
   ]
  },
  {
   "cell_type": "code",
   "execution_count": null,
   "metadata": {},
   "outputs": [],
   "source": [
    "from tensorflow.python.client import device_lib\n",
    "print(device_lib.list_local_devices())"
   ]
  },
  {
   "cell_type": "code",
   "execution_count": null,
   "metadata": {},
   "outputs": [],
   "source": [
    "%cd gpt-2"
   ]
  },
  {
   "cell_type": "code",
   "execution_count": null,
   "metadata": {},
   "outputs": [],
   "source": [
    "%cd src"
   ]
  },
  {
   "cell_type": "code",
   "execution_count": null,
   "metadata": {},
   "outputs": [],
   "source": [
    "!ls"
   ]
  },
  {
   "cell_type": "code",
   "execution_count": null,
   "metadata": {},
   "outputs": [],
   "source": [
    "!unzip articles.zip"
   ]
  },
  {
   "cell_type": "code",
   "execution_count": null,
   "metadata": {},
   "outputs": [],
   "source": [
    "!ls"
   ]
  },
  {
   "cell_type": "code",
   "execution_count": null,
   "metadata": {},
   "outputs": [],
   "source": [
    "%cd .."
   ]
  },
  {
   "cell_type": "code",
   "execution_count": null,
   "metadata": {},
   "outputs": [],
   "source": [
    "!PYTHONPATH=src ./encode.py --model_name='1558M' src/articles src/articles_encoded1558.npz"
   ]
  },
  {
   "cell_type": "code",
   "execution_count": null,
   "metadata": {},
   "outputs": [],
   "source": [
    "!pip show tensorflow-gpu"
   ]
  },
  {
   "cell_type": "code",
   "execution_count": null,
   "metadata": {},
   "outputs": [],
   "source": [
    "!pip install tensorflow==1.14.0"
   ]
  },
  {
   "cell_type": "code",
   "execution_count": null,
   "metadata": {},
   "outputs": [],
   "source": [
    "!pip install tensorflow-gpu==1.14.0"
   ]
  },
  {
   "cell_type": "code",
   "execution_count": null,
   "metadata": {},
   "outputs": [],
   "source": [
    "!PYTHONPATH=src ./train.py --dataset src/articles_encoded1558.npz --model_name='1558M'"
   ]
  },
  {
   "cell_type": "code",
   "execution_count": null,
   "metadata": {},
   "outputs": [],
   "source": [
    "!pwd"
   ]
  },
  {
   "cell_type": "code",
   "execution_count": null,
   "metadata": {},
   "outputs": [],
   "source": [
    "!python3 download_model.py 774M"
   ]
  },
  {
   "cell_type": "code",
   "execution_count": null,
   "metadata": {},
   "outputs": [],
   "source": [
    "!PYTHONPATH=src ./encode.py --model_name='774M' src/articles src/articles_encoded774.npz"
   ]
  },
  {
   "cell_type": "code",
   "execution_count": null,
   "metadata": {},
   "outputs": [],
   "source": [
    "!PYTHONPATH=src ./train.py --dataset src/articles_encoded774.npz --model_name='774M'"
   ]
  },
  {
   "cell_type": "code",
   "execution_count": null,
   "metadata": {},
   "outputs": [],
   "source": [
    "!python3 download_model.py 355M"
   ]
  },
  {
   "cell_type": "code",
   "execution_count": null,
   "metadata": {},
   "outputs": [],
   "source": [
    "!PYTHONPATH=src ./encode.py --model_name='355M' src/articles src/articles_encoded355.npz"
   ]
  },
  {
   "cell_type": "code",
   "execution_count": 9,
   "metadata": {},
   "outputs": [
    {
     "name": "stdout",
     "output_type": "stream",
     "text": [
      "WARNING:tensorflow:From /mnt/batch/tasks/shared/LS_root/mounts/clusters/gptcomputeinstance/code/users/atherfawaz/gpt-2/src/model.py:147: The name tf.AUTO_REUSE is deprecated. Please use tf.compat.v1.AUTO_REUSE instead.\n",
      "\n",
      "WARNING:tensorflow:From /mnt/batch/tasks/shared/LS_root/mounts/clusters/gptcomputeinstance/code/users/atherfawaz/gpt-2/src/memory_saving_gradients.py:13: The name tf.GraphKeys is deprecated. Please use tf.compat.v1.GraphKeys instead.\n",
      "\n",
      "WARNING:tensorflow:From ./train.py:88: The name tf.ConfigProto is deprecated. Please use tf.compat.v1.ConfigProto instead.\n",
      "\n",
      "WARNING:tensorflow:From ./train.py:91: The name tf.Session is deprecated. Please use tf.compat.v1.Session instead.\n",
      "\n",
      "2020-06-21 16:51:12.841327: I tensorflow/core/platform/cpu_feature_guard.cc:142] Your CPU supports instructions that this TensorFlow binary was not compiled to use: AVX2 FMA\n",
      "2020-06-21 16:51:12.849506: I tensorflow/core/platform/profile_utils/cpu_utils.cc:94] CPU Frequency: 2596990000 Hz\n",
      "2020-06-21 16:51:12.850882: I tensorflow/compiler/xla/service/service.cc:168] XLA service 0x558b0c592fb0 executing computations on platform Host. Devices:\n",
      "2020-06-21 16:51:12.850906: I tensorflow/compiler/xla/service/service.cc:175]   StreamExecutor device (0): <undefined>, <undefined>\n",
      "WARNING:tensorflow:From ./train.py:92: The name tf.placeholder is deprecated. Please use tf.compat.v1.placeholder instead.\n",
      "\n",
      "WARNING:tensorflow:From /mnt/batch/tasks/shared/LS_root/mounts/clusters/gptcomputeinstance/code/users/atherfawaz/gpt-2/src/sample.py:65: to_float (from tensorflow.python.ops.math_ops) is deprecated and will be removed in a future version.\n",
      "Instructions for updating:\n",
      "Use `tf.cast` instead.\n",
      "WARNING:tensorflow:From /mnt/batch/tasks/shared/LS_root/mounts/clusters/gptcomputeinstance/code/users/atherfawaz/gpt-2/src/sample.py:16: add_dispatch_support.<locals>.wrapper (from tensorflow.python.ops.array_ops) is deprecated and will be removed in a future version.\n",
      "Instructions for updating:\n",
      "Use tf.where in 2.0, which has the same broadcast rule as np.where\n",
      "WARNING:tensorflow:From /mnt/batch/tasks/shared/LS_root/mounts/clusters/gptcomputeinstance/code/users/atherfawaz/gpt-2/src/sample.py:70: multinomial (from tensorflow.python.ops.random_ops) is deprecated and will be removed in a future version.\n",
      "Instructions for updating:\n",
      "Use `tf.random.categorical` instead.\n",
      "WARNING:tensorflow:From ./train.py:121: The name tf.train.AdamOptimizer is deprecated. Please use tf.compat.v1.train.AdamOptimizer instead.\n",
      "\n",
      "WARNING:tensorflow:From ./train.py:144: The name tf.summary.scalar is deprecated. Please use tf.compat.v1.summary.scalar instead.\n",
      "\n",
      "WARNING:tensorflow:From ./train.py:147: The name tf.summary.merge is deprecated. Please use tf.compat.v1.summary.merge instead.\n",
      "\n",
      "WARNING:tensorflow:From ./train.py:149: The name tf.summary.FileWriter is deprecated. Please use tf.compat.v1.summary.FileWriter instead.\n",
      "\n",
      "WARNING:tensorflow:From ./train.py:152: The name tf.train.Saver is deprecated. Please use tf.compat.v1.train.Saver instead.\n",
      "\n",
      "2020-06-21 16:51:44.232195: W tensorflow/compiler/jit/mark_for_compilation_pass.cc:1412] (One-time warning): Not using XLA:CPU for cluster because envvar TF_XLA_FLAGS=--tf_xla_cpu_global_jit was not set.  If you want XLA:CPU, either set that envvar, or use experimental_jit_scope to enable XLA:CPU.  To confirm that XLA is active, pass --vmodule=xla_compilation_cache=1 (as a proper command-line flag, not via TF_XLA_FLAGS) or set the envvar XLA_FLAGS=--xla_hlo_profile.\n",
      "Loading checkpoint models/355M/model.ckpt\n",
      "WARNING:tensorflow:From /anaconda/envs/azureml_py36/lib/python3.6/site-packages/tensorflow/python/training/saver.py:1276: checkpoint_exists (from tensorflow.python.training.checkpoint_management) is deprecated and will be removed in a future version.\n",
      "Instructions for updating:\n",
      "Use standard file APIs to check for files with this prefix.\n",
      "Loading dataset...\n",
      "100%|█████████████████████████████████████████████| 1/1 [00:00<00:00, 45.44it/s]\n",
      "dataset has 56867 tokens\n",
      "Training...\n",
      "[1 | 19.13] loss=3.41 avg=3.41\n",
      "[2 | 28.38] loss=3.21 avg=3.31\n",
      "[3 | 37.43] loss=3.09 avg=3.24\n",
      "[4 | 46.65] loss=3.31 avg=3.26\n",
      "[5 | 55.90] loss=2.81 avg=3.16\n",
      "[6 | 65.05] loss=3.24 avg=3.18\n",
      "[7 | 74.22] loss=2.98 avg=3.15\n",
      "[8 | 83.55] loss=3.35 avg=3.17\n",
      "[9 | 92.80] loss=2.55 avg=3.10\n",
      "[10 | 102.01] loss=2.37 avg=3.02\n",
      "[11 | 111.34] loss=3.09 avg=3.03\n",
      "[12 | 120.54] loss=3.18 avg=3.04\n",
      "[13 | 129.82] loss=3.19 avg=3.06\n",
      "[14 | 139.10] loss=2.62 avg=3.02\n",
      "[15 | 148.48] loss=3.02 avg=3.02\n",
      "[16 | 157.64] loss=2.96 avg=3.02\n",
      "[17 | 166.85] loss=2.77 avg=3.00\n",
      "[18 | 176.10] loss=3.12 avg=3.01\n",
      "[19 | 185.42] loss=3.34 avg=3.03\n",
      "[20 | 194.66] loss=2.73 avg=3.01\n",
      "[21 | 203.96] loss=2.55 avg=2.99\n",
      "[22 | 213.13] loss=3.06 avg=2.99\n",
      "[23 | 222.48] loss=3.03 avg=2.99\n",
      "[24 | 231.63] loss=2.78 avg=2.98\n",
      "[25 | 240.88] loss=3.15 avg=2.99\n",
      "[26 | 250.11] loss=3.00 avg=2.99\n",
      "[27 | 259.38] loss=2.46 avg=2.97\n",
      "[28 | 268.63] loss=1.65 avg=2.92\n",
      "[29 | 277.85] loss=2.77 avg=2.91\n",
      "[30 | 287.10] loss=2.95 avg=2.91\n",
      "[31 | 296.29] loss=2.97 avg=2.91\n",
      "[32 | 305.48] loss=3.07 avg=2.92\n",
      "[33 | 314.82] loss=2.52 avg=2.90\n",
      "[34 | 324.13] loss=2.35 avg=2.89\n",
      "[35 | 333.36] loss=2.99 avg=2.89\n",
      "[36 | 342.56] loss=3.38 avg=2.91\n",
      "[37 | 351.78] loss=2.47 avg=2.89\n",
      "[38 | 361.04] loss=3.03 avg=2.90\n",
      "[39 | 370.17] loss=3.10 avg=2.90\n",
      "[40 | 379.49] loss=2.91 avg=2.90\n",
      "[41 | 388.72] loss=2.90 avg=2.90\n",
      "[42 | 397.99] loss=2.65 avg=2.89\n",
      "[43 | 407.19] loss=2.60 avg=2.89\n",
      "[44 | 416.45] loss=3.33 avg=2.90\n",
      "[45 | 425.68] loss=2.73 avg=2.89\n",
      "[46 | 434.93] loss=2.85 avg=2.89\n",
      "[47 | 444.13] loss=3.12 avg=2.90\n",
      "[48 | 453.36] loss=2.70 avg=2.89\n",
      "[49 | 462.60] loss=2.24 avg=2.88\n",
      "[50 | 471.89] loss=2.46 avg=2.87\n",
      "[51 | 481.53] loss=3.31 avg=2.88\n",
      "[52 | 491.45] loss=2.67 avg=2.87\n",
      "[53 | 501.69] loss=2.92 avg=2.87\n",
      "[54 | 511.68] loss=2.86 avg=2.87\n",
      "[55 | 522.31] loss=3.15 avg=2.88\n",
      "[56 | 532.52] loss=2.82 avg=2.88\n",
      "[57 | 542.71] loss=2.28 avg=2.86\n",
      "[58 | 552.49] loss=3.34 avg=2.88\n",
      "[59 | 562.24] loss=3.34 avg=2.89\n",
      "[60 | 572.13] loss=2.23 avg=2.87\n",
      "[61 | 581.83] loss=2.73 avg=2.87\n",
      "[62 | 591.58] loss=2.72 avg=2.86\n",
      "[63 | 601.22] loss=2.77 avg=2.86\n",
      "[64 | 611.01] loss=2.63 avg=2.86\n",
      "[65 | 620.87] loss=2.98 avg=2.86\n",
      "[66 | 630.56] loss=1.81 avg=2.84\n",
      "[67 | 640.42] loss=2.07 avg=2.82\n",
      "[68 | 650.29] loss=2.86 avg=2.82\n",
      "[69 | 659.99] loss=2.20 avg=2.81\n",
      "[70 | 669.67] loss=2.01 avg=2.80\n",
      "[71 | 679.48] loss=2.61 avg=2.79\n",
      "[72 | 689.42] loss=2.96 avg=2.80\n",
      "[73 | 699.02] loss=2.87 avg=2.80\n",
      "[74 | 708.84] loss=2.89 avg=2.80\n",
      "[75 | 718.60] loss=2.10 avg=2.79\n",
      "[76 | 728.37] loss=2.46 avg=2.78\n",
      "[77 | 738.03] loss=2.83 avg=2.78\n",
      "[78 | 747.80] loss=2.42 avg=2.77\n",
      "[79 | 757.62] loss=3.18 avg=2.78\n",
      "[80 | 767.41] loss=2.59 avg=2.78\n",
      "[81 | 777.10] loss=2.43 avg=2.77\n",
      "[82 | 786.26] loss=1.61 avg=2.75\n",
      "[83 | 795.55] loss=2.51 avg=2.75\n",
      "[84 | 804.89] loss=1.97 avg=2.73\n",
      "[85 | 814.00] loss=2.55 avg=2.73\n",
      "[86 | 823.28] loss=2.77 avg=2.73\n",
      "[87 | 832.56] loss=3.27 avg=2.74\n",
      "[88 | 841.79] loss=2.52 avg=2.74\n",
      "[89 | 850.94] loss=2.88 avg=2.74\n",
      "[90 | 860.31] loss=2.59 avg=2.74\n",
      "[91 | 869.57] loss=3.34 avg=2.75\n",
      "[92 | 878.68] loss=2.60 avg=2.74\n",
      "[93 | 887.92] loss=2.50 avg=2.74\n",
      "[94 | 897.13] loss=3.17 avg=2.75\n",
      "[95 | 906.33] loss=3.00 avg=2.75\n",
      "[96 | 915.55] loss=2.45 avg=2.75\n",
      "[97 | 925.01] loss=2.59 avg=2.74\n",
      "[98 | 934.21] loss=3.16 avg=2.75\n",
      "[99 | 943.41] loss=2.52 avg=2.75\n",
      "Generating samples...\n",
      "======== SAMPLE 1 ========\n",
      " ( 世界人間・ソニア 真の君子・シャンメイ 真方スペシャル 真材怪, Bisky なんなすみません!ヤ魔モトP 十字架サクヤ 南方の親愛神・レイラン Aamir AB Black Bird Bomb AB Bluebird Blues AB Bomb AB Chuck AB Dashing Wingman AB Green Bird Hal AB Hal AB Matilda AB Red AB Red Bird Red AB The Blues AB White Bird Matilda AB Wingman AB Yellow Bird Chuck ABE Archer Blues ABE Capt'n Bomb ABE Cleric Matilda ABE Fencer Red ABE Guard Captain Pig ABE Knight Red ABE Mage Chuck ABE Pirate Bomb ABE Priest Matilda ABE Royal Guard Pig ABE Trickster Blues ABE Wizard Chuck Abiding Sniper Dragonbound, Myr Absolute Zero Hrungnir Abyssal CyberDragon, Sadalmelik Abyssal Darkdragon, Vritra Abyssal Dragon of Purple Light, Apocalypse X Abyssal Dragon, Apocalypse X Abyssal Hands War Goddess, Nemain Abyssal Hell Deity Jackal, Anubis Abyssal Shark Dragon, Toa 受継ぎし拳・水瓶座の氷河 Acala Ace Ace Archer, Green Arrow Achtros Acnologia Acubens Adamantine Jewel Princess, Facet Adored Starsea Goddess, Andromeda Adventure Lover, Van Crow Adventurous Wind, Bartz 戸愚呂弟 桂小太郎 桂手製の爆弾 武田好誠 武藤蓮次 受験生, Leorio 津乃田梨亜 渦龍喚士・ヴィゴ 昂龍喚士・オメガ 星井スバル 星馬烈 星馬豪 星輝の黄龍帝・ファガン 悲しき力・ゼオン&デュフォー 悲しき力・ゼオン&デュフォー 悪魔神バロム 悪魔王ベルゼンロック 悪魔龍ダークマスターズ・滅角 愛の放射線, Pike 愛執の断龍喚士・ロシェ 愛執の断龍喚士・ロシェ 招財の学問神・ガネーシャ 東方の親愛神・カリン 江戸川コナン【原作版】 滅神機・ラグナロク=ドラゴン 滾角の獄蛇龍・ニーズヘッグ 滾龍喚士・アルファ 死鬼者デスワルツ 森川ココネ&ジョイ 正統王位継承者, Kinnikuman 極光太陽神・シャーマンラーン 極光の親愛神・サクヤ 極滅召喚・ダークフレアバハムート 極醒の緑龍契士・シルヴィ 極醒の青龍契士・リューネ 橘みずき 橘みずき 早川あおい 早川あおい 歩兵兵站用輸送支援車両・ロジコマ 早乙女乱馬 早乙女乱馬【原作版】 橙龍契士・サリア&神楽衣装 水の猫砲隊 氷雪の覇者・キングフロスト 新八のメガネ 新形態・奈落 気狂いピエロ・カイト 新進の刃龍喚士・リエト 新進の刃龍喚士・リエト 浄化の精霊ウルス 浮雲の鬼龍契士・スオウ 浮雲の鬼龍契士・スオウ 流焔の鬼龍契士・スオウ 慟哭の冥闘士・双子座のサガ 怪盗キッド �\n",
      "\n",
      "[100 | 1124.31] loss=1.75 avg=2.73\n",
      "[101 | 1133.59] loss=2.91 avg=2.73\n",
      "[102 | 1142.84] loss=2.52 avg=2.73\n",
      "[103 | 1152.05] loss=3.02 avg=2.73\n",
      "[104 | 1161.35] loss=2.53 avg=2.73\n",
      "[105 | 1170.64] loss=2.00 avg=2.72\n",
      "[106 | 1179.85] loss=3.17 avg=2.73\n",
      "[107 | 1189.04] loss=2.32 avg=2.72\n",
      "[108 | 1198.29] loss=2.57 avg=2.72\n",
      "[109 | 1207.46] loss=2.63 avg=2.72\n",
      "[110 | 1216.64] loss=2.52 avg=2.71\n",
      "^C\n"
     ]
    }
   ],
   "source": [
    "!PYTHONPATH=src ./train.py --dataset src/articles_encoded355.npz --model_name='355M'"
   ]
  }
 ],
 "metadata": {
  "kernelspec": {
   "display_name": "Python 3.6 - AzureML",
   "language": "python",
   "name": "python3-azureml"
  },
  "language_info": {
   "codemirror_mode": {
    "name": "ipython",
    "version": 3
   },
   "file_extension": ".py",
   "mimetype": "text/x-python",
   "name": "python",
   "nbconvert_exporter": "python",
   "pygments_lexer": "ipython3",
   "version": "3.6.9"
  }
 },
 "nbformat": 4,
 "nbformat_minor": 4
}
